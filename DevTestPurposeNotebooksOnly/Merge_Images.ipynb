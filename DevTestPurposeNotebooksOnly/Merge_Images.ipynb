{
 "cells": [
  {
   "cell_type": "code",
   "execution_count": 9,
   "metadata": {},
   "outputs": [],
   "source": [
    "import sys\n",
    "from PIL import Image"
   ]
  },
  {
   "cell_type": "code",
   "execution_count": 10,
   "metadata": {},
   "outputs": [],
   "source": [
    "sys.path.insert(0, '311_Service_Request_Analysis/results/Analysis/Q1')"
   ]
  },
  {
   "cell_type": "code",
   "execution_count": 13,
   "metadata": {},
   "outputs": [],
   "source": [
    "def merge_images(images, final_name):\n",
    "    images = [Image.open(x) for x in [file1, file2]]\n",
    "    widths, heights = zip(*(i.size for i in images))\n",
    "\n",
    "    total_width = sum(widths)\n",
    "    max_height = max(heights)\n",
    "\n",
    "    new_im = Image.new('RGB', (total_width, max_height))\n",
    "\n",
    "    x_offset = 0\n",
    "    for im in images:\n",
    "        new_im.paste(im, (x_offset,0))\n",
    "        x_offset += im.size[0]\n",
    "\n",
    "    new_im.save(final_name + \".png\")"
   ]
  },
  {
   "cell_type": "code",
   "execution_count": 14,
   "metadata": {},
   "outputs": [],
   "source": [
    "file1 = '311_Service_Request_Analysis/results/Analysis/Q1/1.png'\n",
    "file2 = '311_Service_Request_Analysis/results/Analysis/Q1/2.png'"
   ]
  },
  {
   "cell_type": "code",
   "execution_count": 15,
   "metadata": {},
   "outputs": [],
   "source": [
    "images  = [file1, file2]\n",
    "merge_images(images, \"Overall\")"
   ]
  },
  {
   "cell_type": "code",
   "execution_count": 16,
   "metadata": {},
   "outputs": [],
   "source": [
    "file1 = '311_Service_Request_Analysis/results/Analysis/Q1/2019_1.png'\n",
    "file2 = '311_Service_Request_Analysis/results/Analysis/Q1/2018_1.png'"
   ]
  },
  {
   "cell_type": "code",
   "execution_count": 17,
   "metadata": {},
   "outputs": [],
   "source": [
    "images  = [file1, file2]\n",
    "merge_images(images, \"Queens\")"
   ]
  },
  {
   "cell_type": "code",
   "execution_count": 18,
   "metadata": {},
   "outputs": [],
   "source": [
    "file1 = '311_Service_Request_Analysis/results/Analysis/Q1/2019_2.png'\n",
    "file2 = '311_Service_Request_Analysis/results/Analysis/Q1/2018_2.png'"
   ]
  },
  {
   "cell_type": "code",
   "execution_count": 19,
   "metadata": {},
   "outputs": [],
   "source": [
    "images  = [file1, file2]\n",
    "merge_images(images, \"Brooklyn\")"
   ]
  },
  {
   "cell_type": "code",
   "execution_count": 20,
   "metadata": {},
   "outputs": [],
   "source": [
    "file1 = '311_Service_Request_Analysis/results/Analysis/Q1/2019_3.png'\n",
    "file2 = '311_Service_Request_Analysis/results/Analysis/Q1/2018_3.png'"
   ]
  },
  {
   "cell_type": "code",
   "execution_count": 21,
   "metadata": {},
   "outputs": [],
   "source": [
    "images  = [file1, file2]\n",
    "merge_images(images, \"Bronx\")"
   ]
  },
  {
   "cell_type": "code",
   "execution_count": 22,
   "metadata": {},
   "outputs": [],
   "source": [
    "file1 = '311_Service_Request_Analysis/results/Analysis/Q1/2019_4.png'\n",
    "file2 = '311_Service_Request_Analysis/results/Analysis/Q1/2018_4.png'"
   ]
  },
  {
   "cell_type": "code",
   "execution_count": 23,
   "metadata": {},
   "outputs": [],
   "source": [
    "images  = [file1, file2]\n",
    "merge_images(images, \"Manhattan\")"
   ]
  },
  {
   "cell_type": "code",
   "execution_count": 24,
   "metadata": {},
   "outputs": [],
   "source": [
    "file1 = '311_Service_Request_Analysis/results/Analysis/Q1/2019_5.png'\n",
    "file2 = '311_Service_Request_Analysis/results/Analysis/Q1/2018_5.png'"
   ]
  },
  {
   "cell_type": "code",
   "execution_count": null,
   "metadata": {},
   "outputs": [],
   "source": []
  }
 ],
 "metadata": {
  "kernelspec": {
   "display_name": "Python 3",
   "language": "python",
   "name": "python3"
  },
  "language_info": {
   "codemirror_mode": {
    "name": "ipython",
    "version": 3
   },
   "file_extension": ".py",
   "mimetype": "text/x-python",
   "name": "python",
   "nbconvert_exporter": "python",
   "pygments_lexer": "ipython3",
   "version": "3.7.1"
  }
 },
 "nbformat": 4,
 "nbformat_minor": 2
}

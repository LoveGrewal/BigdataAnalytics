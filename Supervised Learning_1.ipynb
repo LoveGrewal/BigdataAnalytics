{
 "cells": [
  {
   "cell_type": "code",
   "execution_count": 1,
   "metadata": {},
   "outputs": [],
   "source": [
    "import csv\n",
    "import os\n",
    "import sys\n",
    "# Spark imports\n",
    "from pyspark.sql import DataFrame\n",
    "from pyspark.sql import SparkSession\n",
    "from pyspark.sql.functions import when, col, count, isnull, upper, substring, to_timestamp, unix_timestamp, lit, avg\n",
    "from pyspark.sql.types import IntegerType"
   ]
  },
  {
   "cell_type": "code",
   "execution_count": 2,
   "metadata": {},
   "outputs": [],
   "source": [
    "sys.path.insert(0, '311_Service_Request_Analysis/src')\n",
    "sys.path.insert(0, '311_Service_Request_Analysis/results/Analysis/Supervised Learning')\n",
    "import Utilities as utilFor311\n",
    "import Constants"
   ]
  },
  {
   "cell_type": "code",
   "execution_count": 3,
   "metadata": {},
   "outputs": [],
   "source": [
    "def init_spark():\n",
    "    spark = SparkSession \\\n",
    "        .builder \\\n",
    "        .appName(\"NYC 311 Data Analysis\") \\\n",
    "        .config('spark.sql.codegen.wholeStage', 'false') \\\n",
    "        .getOrCreate()\n",
    "    return spark"
   ]
  },
  {
   "cell_type": "code",
   "execution_count": 4,
   "metadata": {},
   "outputs": [],
   "source": [
    "filename_19 = \"data/New_Data/311_Cleaned_Data_2019.csv\"\n",
    "filename_18 = \"data/New_Data/311_Cleaned_Data_2018.csv\"\n",
    "Constants.RESULTS_FOLDER_ANALYSIS_Q1 = '311_Service_Request_Analysis/results/Analysis/Supervised Learning/'"
   ]
  },
  {
   "cell_type": "code",
   "execution_count": 5,
   "metadata": {},
   "outputs": [],
   "source": [
    "%matplotlib inline"
   ]
  },
  {
   "cell_type": "code",
   "execution_count": 6,
   "metadata": {},
   "outputs": [],
   "source": [
    "import numpy as np\n",
    "import matplotlib.pyplot as plt"
   ]
  },
  {
   "cell_type": "code",
   "execution_count": 7,
   "metadata": {},
   "outputs": [],
   "source": [
    "def create_x_y_coordinates_for_group_by_results(group_by_result, col_name):\n",
    "    '''\n",
    "    Converts Group By Result (after collect()) into list of X , Y coordinates, which can then be used for Visualizations\n",
    "    '''\n",
    "    x = [entry.__getitem__(col_name) for entry in group_by_result]\n",
    "    y = [entry.__getitem__('avg(time_to_resolve_in_hrs)') for entry in group_by_result]\n",
    "    return x, y\n",
    "\n",
    "\n",
    "def plot_chart_x_y(x, y, title, x_label, y_label, fig_num, x_ticks=None, x_ticks_lables=None, y_ticks=None,\n",
    "                   y_ticks_lables=None, x_tick_rotation=None):\n",
    "    plt.figure(num=fig_num, figsize=(8, 4))\n",
    "\n",
    "    plt.bar(x, y, align='center', color='blue', alpha=.5)\n",
    "\n",
    "    plt.xlabel(x_label)\n",
    "    plt.ylabel(y_label)\n",
    "    if x_tick_rotation is not None:\n",
    "        plt.xticks(rotation = x_tick_rotation)\n",
    "    if x_ticks is not None:\n",
    "        if x_ticks_lables is not None:\n",
    "            plt.xticks(x_ticks, x_ticks_lables)\n",
    "        else:\n",
    "            plt.xticks(x_ticks)\n",
    "    if y_ticks is not None:\n",
    "        if y_ticks_lables is not None:\n",
    "            plt.yticks(y_ticks, y_ticks_lables)\n",
    "        else:\n",
    "            plt.yticks(y_ticks)\n",
    "\n",
    "    plt.title(title)\n",
    "    plt.savefig(Constants.RESULTS_FOLDER_ANALYSIS_Q1 + str(fig_num) + '.png')\n",
    "\n",
    "\n",
    "def prepare_plot(df, col_name, title, x_label, y_label, fig_num, x_ticks=None, x_ticks_lables=None, y_ticks=None,\n",
    "                 y_ticks_lables=None, x_tick_rotation=None):\n",
    "    df_groupby_col = df.groupby(col_name).avg().orderBy(col_name).collect()\n",
    "    x, y = create_x_y_coordinates_for_group_by_results(df_groupby_col, col_name)\n",
    "    plot_chart_x_y(x, y, title, x_label, y_label, fig_num, x_ticks, x_ticks_lables, y_ticks, y_ticks_lables, x_tick_rotation=x_tick_rotation)\n",
    "\n",
    "\n",
    "def show_plot():\n",
    "    plt.show()"
   ]
  },
  {
   "cell_type": "code",
   "execution_count": 8,
   "metadata": {},
   "outputs": [],
   "source": [
    "spark = init_spark()"
   ]
  },
  {
   "cell_type": "code",
   "execution_count": 9,
   "metadata": {},
   "outputs": [],
   "source": [
    "def calculate_time_to_resolve_in_seconds(df_311):\n",
    "    time_fmt = \"MM/dd/yyyy HH:mm:ss\"\n",
    "    time_fmt2 = \"MM/dd/yyyy HH:mm:ss\"\n",
    "    timestamp_format_col = when(to_timestamp(df_311.Closed_Date, time_fmt).isNull(),\n",
    "                                unix_timestamp('Closed_Date', format=time_fmt2)).otherwise(\n",
    "        unix_timestamp('Closed_Date', format=time_fmt))\n",
    "    df_311 = df_311.withColumn(\"Closing_timestamp\", timestamp_format_col)\n",
    "    timestamp_format_col = when(to_timestamp(df_311.Created_Date, time_fmt).isNull(),\n",
    "                                unix_timestamp('Created_Date', format=time_fmt2)).otherwise(\n",
    "        unix_timestamp('Created_Date', format=time_fmt))\n",
    "    df_311 = df_311.withColumn(\"Creation_timestamp\", timestamp_format_col)\n",
    "    df_311 = df_311.withColumn(\"time_to_resolve_in_hrs\", (col('Closing_timestamp') - col('Creation_timestamp')) / lit(\n",
    "        3600))\n",
    "    return df_311.filter(df_311[\"time_to_resolve_in_hrs\"] > 0)"
   ]
  },
  {
   "cell_type": "code",
   "execution_count": 10,
   "metadata": {},
   "outputs": [],
   "source": [
    "nyc_311_df_2019 = spark.read.csv(filename_19, inferSchema=True, header=True)\n",
    "nyc_311_df_2018 = spark.read.csv(filename_18, inferSchema=True, header=True)"
   ]
  },
  {
   "cell_type": "code",
   "execution_count": 11,
   "metadata": {},
   "outputs": [],
   "source": [
    "nyc_311_df_2019 = calculate_time_to_resolve_in_seconds(nyc_311_df_2019)\n",
    "nyc_311_df_2018 = calculate_time_to_resolve_in_seconds(nyc_311_df_2018)"
   ]
  },
  {
   "cell_type": "code",
   "execution_count": 12,
   "metadata": {},
   "outputs": [],
   "source": [
    "nyc_311_df_resolution_time_2019 = nyc_311_df_2019.select('Complaint_Type', 'time_to_resolve_in_hrs')\n",
    "nyc_311_df_resolution_time_2018 = nyc_311_df_2018.select('Complaint_Type', 'time_to_resolve_in_hrs')"
   ]
  },
  {
   "cell_type": "code",
   "execution_count": 13,
   "metadata": {},
   "outputs": [
    {
     "data": {
      "image/png": "[encoded data removed]",
      "text/plain": [
       "<Figure size 576x288 with 1 Axes>"
      ]
     },
     "metadata": {
      "needs_background": "light"
     },
     "output_type": "display_data"
    }
   ],
   "source": [
    "prepare_plot(nyc_311_df_resolution_time_2019, 'Complaint_Type',\n",
    "                            \"Average Closure Time in Hours - 2019\", \"Complaint Types\", \"Closure Time in Hours\", 3, x_tick_rotation='vertical')\n",
    "\n",
    "show_plot()"
   ]
  },
  {
   "cell_type": "code",
   "execution_count": 14,
   "metadata": {},
   "outputs": [
    {
     "data": {
      "image/png": "[encoded data removed]",
      "text/plain": [
       "<Figure size 576x288 with 1 Axes>"
      ]
     },
     "metadata": {
      "needs_background": "light"
     },
     "output_type": "display_data"
    }
   ],
   "source": [
    "prepare_plot(nyc_311_df_resolution_time_2018, 'Complaint_Type',\n",
    "                            \"Average Closure Time in Hours - 2018\", \"Complaint Types\", \"Closure Time in Hours\", 4, x_tick_rotation='vertical')\n",
    "\n",
    "show_plot()"
   ]
  },
  {
   "cell_type": "markdown",
   "metadata": {},
   "source": [
    "## Linear Regression"
   ]
  },
  {
   "cell_type": "code",
   "execution_count": 15,
   "metadata": {},
   "outputs": [
    {
     "data": {
      "text/plain": [
       "DataFrame[Unique_Key: int, Closing_timestamp: bigint, Creation_timestamp: bigint, time_to_resolve_in_hrs: double, Agency: string, Agency_Name: string, Open_Data_Channel_Type: string, Status: string, Complaint_Type: string, Borough: string, Creation_Month: int, Creation_Day: int, Creation_Hour: int, Closing_Month: int, Closing_Day: int, Closing_Hour: int, Issue_Category: string, Incident_Zip: double, City: string, Latitude: double, Longitude: double, Created_Date: string, Creation_Time: string, Closed_Date: string, Closing_Time: string]"
      ]
     },
     "execution_count": 15,
     "metadata": {},
     "output_type": "execute_result"
    }
   ],
   "source": [
    "nyc_311_df_2019"
   ]
  },
  {
   "cell_type": "code",
   "execution_count": 16,
   "metadata": {},
   "outputs": [
    {
     "name": "stdout",
     "output_type": "stream",
     "text": [
      "root\n",
      " |-- Unique_Key: integer (nullable = true)\n",
      " |-- Closing_timestamp: long (nullable = true)\n",
      " |-- Creation_timestamp: long (nullable = true)\n",
      " |-- time_to_resolve_in_hrs: double (nullable = true)\n",
      " |-- Agency: string (nullable = true)\n",
      " |-- Agency_Name: string (nullable = true)\n",
      " |-- Open_Data_Channel_Type: string (nullable = true)\n",
      " |-- Status: string (nullable = true)\n",
      " |-- Complaint_Type: string (nullable = true)\n",
      " |-- Borough: string (nullable = true)\n",
      " |-- Creation_Month: integer (nullable = true)\n",
      " |-- Creation_Day: integer (nullable = true)\n",
      " |-- Creation_Hour: integer (nullable = true)\n",
      " |-- Closing_Month: integer (nullable = true)\n",
      " |-- Closing_Day: integer (nullable = true)\n",
      " |-- Closing_Hour: integer (nullable = true)\n",
      " |-- Issue_Category: string (nullable = true)\n",
      " |-- Incident_Zip: double (nullable = true)\n",
      " |-- City: string (nullable = true)\n",
      " |-- Latitude: double (nullable = true)\n",
      " |-- Longitude: double (nullable = true)\n",
      " |-- Created_Date: string (nullable = true)\n",
      " |-- Creation_Time: string (nullable = true)\n",
      " |-- Closed_Date: string (nullable = true)\n",
      " |-- Closing_Time: string (nullable = true)\n",
      "\n"
     ]
    }
   ],
   "source": [
    "nyc_311_df_2019.printSchema()"
   ]
  },
  {
   "cell_type": "code",
   "execution_count": 17,
   "metadata": {},
   "outputs": [
    {
     "name": "stdout",
     "output_type": "stream",
     "text": [
      "+--------------------+------+\n",
      "|      Complaint_Type| count|\n",
      "+--------------------+------+\n",
      "|UNSANITARY CONDITION| 57236|\n",
      "|     Illegal Parking|154566|\n",
      "| Noise - Residential|195426|\n",
      "|  Noise - Commercial| 34001|\n",
      "|        Water System| 44943|\n",
      "|    Blocked Driveway|109978|\n",
      "|      HEAT/HOT WATER|203884|\n",
      "|       PAINT/PLASTER| 34009|\n",
      "|               Noise| 52631|\n",
      "|Request Large Bul...| 99386|\n",
      "|            PLUMBING| 35542|\n",
      "|          WATER LEAK| 24393|\n",
      "|Noise - Street/Si...| 82704|\n",
      "+--------------------+------+\n",
      "\n"
     ]
    }
   ],
   "source": [
    "nyc_311_df_2019.groupBy('Complaint_Type').count().show()"
   ]
  },
  {
   "cell_type": "code",
   "execution_count": 36,
   "metadata": {},
   "outputs": [],
   "source": [
    "from pyspark.ml.feature import StringIndexer\n",
    "indexer = StringIndexer(inputCol=\"Complaint_Type\", outputCol=\"Complaint_Type_Vector\")\n",
    "indexed = indexer.fit(nyc_311_df_2019).transform(nyc_311_df_2019)"
   ]
  },
  {
   "cell_type": "code",
   "execution_count": 37,
   "metadata": {},
   "outputs": [
    {
     "data": {
      "text/plain": [
       "[Row(Complaint_Type='Request Large Bulky Item Collection', Complaint_Type_Vector=4.0),\n",
       " Row(Complaint_Type='HEAT/HOT WATER', Complaint_Type_Vector=0.0),\n",
       " Row(Complaint_Type='UNSANITARY CONDITION', Complaint_Type_Vector=6.0),\n",
       " Row(Complaint_Type='HEAT/HOT WATER', Complaint_Type_Vector=0.0),\n",
       " Row(Complaint_Type='HEAT/HOT WATER', Complaint_Type_Vector=0.0)]"
      ]
     },
     "execution_count": 37,
     "metadata": {},
     "output_type": "execute_result"
    }
   ],
   "source": [
    "indexed.select('Complaint_Type','Complaint_Type_Vector').head(5)"
   ]
  },
  {
   "cell_type": "code",
   "execution_count": 38,
   "metadata": {},
   "outputs": [
    {
     "data": {
      "text/plain": [
       "['Unique_Key',\n",
       " 'Closing_timestamp',\n",
       " 'Creation_timestamp',\n",
       " 'time_to_resolve_in_hrs',\n",
       " 'Agency',\n",
       " 'Agency_Name',\n",
       " 'Open_Data_Channel_Type',\n",
       " 'Status',\n",
       " 'Complaint_Type',\n",
       " 'Borough',\n",
       " 'Creation_Month',\n",
       " 'Creation_Day',\n",
       " 'Creation_Hour',\n",
       " 'Closing_Month',\n",
       " 'Closing_Day',\n",
       " 'Closing_Hour',\n",
       " 'Issue_Category',\n",
       " 'Incident_Zip',\n",
       " 'City',\n",
       " 'Latitude',\n",
       " 'Longitude',\n",
       " 'Created_Date',\n",
       " 'Creation_Time',\n",
       " 'Closed_Date',\n",
       " 'Closing_Time',\n",
       " 'Complaint_Type_Vector']"
      ]
     },
     "execution_count": 38,
     "metadata": {},
     "output_type": "execute_result"
    }
   ],
   "source": [
    "indexed.columns"
   ]
  },
  {
   "cell_type": "code",
   "execution_count": 39,
   "metadata": {},
   "outputs": [
    {
     "name": "stdout",
     "output_type": "stream",
     "text": [
      "+--------------------+---------------------+\n",
      "|      Complaint_Type|Complaint_Type_Vector|\n",
      "+--------------------+---------------------+\n",
      "|  Noise - Commercial|                 11.0|\n",
      "|          WATER LEAK|                 12.0|\n",
      "| Noise - Residential|                  1.0|\n",
      "|        Water System|                  8.0|\n",
      "|       PAINT/PLASTER|                 10.0|\n",
      "|            PLUMBING|                  9.0|\n",
      "|      HEAT/HOT WATER|                  0.0|\n",
      "|UNSANITARY CONDITION|                  6.0|\n",
      "|               Noise|                  7.0|\n",
      "|Noise - Street/Si...|                  5.0|\n",
      "|Request Large Bul...|                  4.0|\n",
      "|     Illegal Parking|                  2.0|\n",
      "|    Blocked Driveway|                  3.0|\n",
      "+--------------------+---------------------+\n",
      "\n"
     ]
    }
   ],
   "source": [
    "indexed.select('Complaint_Type', 'Complaint_Type_Vector').distinct().show()"
   ]
  },
  {
   "cell_type": "code",
   "execution_count": 75,
   "metadata": {},
   "outputs": [],
   "source": [
    "num_calls_df = indexed.groupBy('Complaint_Type_Vector', 'Creation_Day','Creation_Hour').count()"
   ]
  },
  {
   "cell_type": "code",
   "execution_count": 76,
   "metadata": {},
   "outputs": [
    {
     "data": {
      "text/plain": [
       "['Complaint_Type_Vector', 'Creation_Day', 'Creation_Hour', 'count']"
      ]
     },
     "execution_count": 76,
     "metadata": {},
     "output_type": "execute_result"
    }
   ],
   "source": [
    "num_calls_df.columns"
   ]
  },
  {
   "cell_type": "code",
   "execution_count": 77,
   "metadata": {},
   "outputs": [],
   "source": [
    "from pyspark.ml.linalg import Vectors\n",
    "from pyspark.ml.feature import VectorAssembler"
   ]
  },
  {
   "cell_type": "code",
   "execution_count": 78,
   "metadata": {},
   "outputs": [],
   "source": [
    "assembler = VectorAssembler(\n",
    "  inputCols=['Complaint_Type_Vector', 'Creation_Day','Creation_Hour'],\n",
    "    outputCol=\"features\")"
   ]
  },
  {
   "cell_type": "code",
   "execution_count": 79,
   "metadata": {},
   "outputs": [],
   "source": [
    "output = assembler.transform(num_calls_df)"
   ]
  },
  {
   "cell_type": "code",
   "execution_count": 80,
   "metadata": {},
   "outputs": [
    {
     "name": "stdout",
     "output_type": "stream",
     "text": [
      "+----------------+-----+\n",
      "|        features|count|\n",
      "+----------------+-----+\n",
      "| [10.0,2.0,12.0]|  117|\n",
      "|  [12.0,3.0,4.0]|    5|\n",
      "| [10.0,3.0,12.0]|  102|\n",
      "| [10.0,3.0,17.0]|   50|\n",
      "|   [9.0,4.0,2.0]|    5|\n",
      "|   [9.0,4.0,5.0]|    9|\n",
      "| [10.0,4.0,14.0]|  114|\n",
      "|  [10.0,5.0,9.0]|   87|\n",
      "| [12.0,7.0,18.0]|   33|\n",
      "|   [9.0,9.0,7.0]|   21|\n",
      "|[12.0,10.0,11.0]|   65|\n",
      "| [9.0,10.0,14.0]|   80|\n",
      "|[12.0,13.0,14.0]|   50|\n",
      "| [4.0,14.0,19.0]|  189|\n",
      "| [4.0,15.0,12.0]|  225|\n",
      "| [9.0,19.0,15.0]|   73|\n",
      "| [0.0,19.0,21.0]|  416|\n",
      "| [8.0,22.0,20.0]|   66|\n",
      "|  [8.0,25.0,2.0]|   16|\n",
      "| [12.0,25.0,7.0]|   15|\n",
      "+----------------+-----+\n",
      "only showing top 20 rows\n",
      "\n"
     ]
    }
   ],
   "source": [
    "output.select(\"features\", \"count\").show()"
   ]
  },
  {
   "cell_type": "code",
   "execution_count": 81,
   "metadata": {},
   "outputs": [],
   "source": [
    "final_data = output.select(\"features\", \"count\")"
   ]
  },
  {
   "cell_type": "code",
   "execution_count": 82,
   "metadata": {},
   "outputs": [],
   "source": [
    "train_data,test_data = final_data.randomSplit([0.7,0.3])"
   ]
  },
  {
   "cell_type": "code",
   "execution_count": 83,
   "metadata": {},
   "outputs": [],
   "source": [
    "from pyspark.ml.regression import LinearRegression\n",
    "# Create a Linear Regression Model object\n",
    "lr = LinearRegression(labelCol='count')"
   ]
  },
  {
   "cell_type": "code",
   "execution_count": 84,
   "metadata": {},
   "outputs": [],
   "source": [
    "# Fit the model to the data and call this model lrModel\n",
    "lrModel = lr.fit(train_data)"
   ]
  },
  {
   "cell_type": "code",
   "execution_count": 85,
   "metadata": {},
   "outputs": [
    {
     "name": "stdout",
     "output_type": "stream",
     "text": [
      "Coefficients: [-20.77539241728782,-0.5833390435406884,6.683113952020992] Intercept: 175.28314171493946\n"
     ]
    }
   ],
   "source": [
    "# Print the coefficients and intercept for linear regression\n",
    "print(\"Coefficients: {} Intercept: {}\".format(lrModel.coefficients,lrModel.intercept))"
   ]
  },
  {
   "cell_type": "code",
   "execution_count": 86,
   "metadata": {},
   "outputs": [],
   "source": [
    "test_results = lrModel.evaluate(test_data)"
   ]
  },
  {
   "cell_type": "code",
   "execution_count": 87,
   "metadata": {},
   "outputs": [
    {
     "name": "stdout",
     "output_type": "stream",
     "text": [
      "RMSE: 87.59594750550254\n",
      "MSE: 7673.050019386756\n",
      "R2: 0.4751228911854294\n"
     ]
    }
   ],
   "source": [
    "print(\"RMSE: {}\".format(test_results.rootMeanSquaredError))\n",
    "print(\"MSE: {}\".format(test_results.meanSquaredError))\n",
    "print(\"R2: {}\".format(test_results.r2))"
   ]
  },
  {
   "cell_type": "code",
   "execution_count": 88,
   "metadata": {},
   "outputs": [],
   "source": [
    "predictions = lrModel.transform(test_data)"
   ]
  },
  {
   "cell_type": "code",
   "execution_count": 89,
   "metadata": {},
   "outputs": [
    {
     "name": "stdout",
     "output_type": "stream",
     "text": [
      "+---------------+-----+-------------------+\n",
      "|       features|count|         prediction|\n",
      "+---------------+-----+-------------------+\n",
      "|[1.0,18.0,22.0]|  827|  291.0361534583811|\n",
      "|[1.0,26.0,10.0]|   58| 206.17207368580367|\n",
      "|[2.0,15.0,15.0]|  290|  225.2289805075684|\n",
      "| [5.0,4.0,19.0]|  178| 196.05198854273647|\n",
      "| [5.0,9.0,13.0]|   40| 153.03660961290706|\n",
      "|[5.0,16.0,21.0]|  320|  202.4181479242902|\n",
      "| [7.0,7.0,19.0]|   73| 152.75118657753876|\n",
      "|  [9.0,2.0,4.0]|    6| 13.870387680351655|\n",
      "|  [9.0,4.0,2.0]|    5|-0.6625183107717021|\n",
      "|  [9.0,9.0,7.0]|   21|  29.83635623162982|\n",
      "|[9.0,10.0,14.0]|   80|  76.03481485223608|\n",
      "| [10.0,5.0,9.0]|   87| 24.760547892546754|\n",
      "| [10.0,7.0,5.0]|    4| -3.138586002618581|\n",
      "|[11.0,14.0,8.0]|    5| -7.948009868628219|\n",
      "| [1.0,11.0,0.0]|   53| 148.09101981870407|\n",
      "|  [2.0,8.0,9.0]|  260| 189.21367010022726|\n",
      "|[3.0,11.0,17.0]|  191|  220.1531721684853|\n",
      "| [3.0,14.0,4.0]|   33| 131.52267366159032|\n",
      "| [4.0,11.0,8.0]|  138| 139.22975418300854|\n",
      "|[5.0,10.0,16.0]|   74| 172.50261242542936|\n",
      "+---------------+-----+-------------------+\n",
      "only showing top 20 rows\n",
      "\n"
     ]
    }
   ],
   "source": [
    "predictions.show()"
   ]
  },
  {
   "cell_type": "markdown",
   "metadata": {},
   "source": [
    "### Find the correlation using Pearson Correlation"
   ]
  },
  {
   "cell_type": "code",
   "execution_count": 31,
   "metadata": {},
   "outputs": [],
   "source": [
    "from pyspark.sql.functions import corr"
   ]
  },
  {
   "cell_type": "code",
   "execution_count": 46,
   "metadata": {},
   "outputs": [
    {
     "name": "stdout",
     "output_type": "stream",
     "text": [
      "+--------------------------------------------+\n",
      "|corr(Creation_Month, time_to_resolve_in_hrs)|\n",
      "+--------------------------------------------+\n",
      "|                        -0.08010677112024123|\n",
      "+--------------------------------------------+\n",
      "\n"
     ]
    }
   ],
   "source": [
    "nyc_311_df_2019.select(corr('Creation_Month','time_to_resolve_in_hrs')).show()"
   ]
  },
  {
   "cell_type": "code",
   "execution_count": 48,
   "metadata": {},
   "outputs": [
    {
     "name": "stdout",
     "output_type": "stream",
     "text": [
      "+-------------------------------------------+\n",
      "|corr(Creation_Hour, time_to_resolve_in_hrs)|\n",
      "+-------------------------------------------+\n",
      "|                       -0.03296325095489546|\n",
      "+-------------------------------------------+\n",
      "\n"
     ]
    }
   ],
   "source": [
    "nyc_311_df_2019.select(corr('Creation_Hour','time_to_resolve_in_hrs')).show()"
   ]
  },
  {
   "cell_type": "code",
   "execution_count": null,
   "metadata": {},
   "outputs": [],
   "source": []
  }
 ],
 "metadata": {
  "kernelspec": {
   "display_name": "Python 3",
   "language": "python",
   "name": "python3"
  },
  "language_info": {
   "codemirror_mode": {
    "name": "ipython",
    "version": 3
   },
   "file_extension": ".py",
   "mimetype": "text/x-python",
   "name": "python",
   "nbconvert_exporter": "python",
   "pygments_lexer": "ipython3",
   "version": "3.5.6"
  }
 },
 "nbformat": 4,
 "nbformat_minor": 2
}

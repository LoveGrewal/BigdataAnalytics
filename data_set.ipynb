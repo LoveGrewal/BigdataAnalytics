{
 "cells": [
  {
   "cell_type": "markdown",
   "metadata": {},
   "source": [
    "### Import all dependencies"
   ]
  },
  {
   "cell_type": "code",
   "execution_count": 1,
   "metadata": {},
   "outputs": [],
   "source": [
    "import csv\n",
    "import os\n",
    "import sys\n",
    "# Spark imports\n",
    "from pyspark.rdd import RDD\n",
    "from pyspark.sql import DataFrame\n",
    "from pyspark.sql import SparkSession\n",
    "from pyspark.sql.functions import desc\n",
    "from pyspark.sql.functions import lit\n",
    "from pyspark.sql.functions import desc\n",
    "from pyspark.ml.evaluation import RegressionEvaluator\n",
    "from pyspark.sql import functions as f"
   ]
  },
  {
   "cell_type": "markdown",
   "metadata": {},
   "source": [
    "### Initialize Spark"
   ]
  },
  {
   "cell_type": "code",
   "execution_count": 2,
   "metadata": {},
   "outputs": [],
   "source": [
    "def init_spark():\n",
    "    spark = SparkSession \\\n",
    "        .builder \\\n",
    "        .appName(\"NYC 311 Data Analysis\") \\\n",
    "        .config('spark.sql.codegen.wholeStage', 'false') \\\n",
    "        .getOrCreate()\n",
    "    return spark"
   ]
  },
  {
   "cell_type": "markdown",
   "metadata": {},
   "source": [
    "### Test Data\n",
    "\n",
    "The complete dataset contains data from 2010 till now. To ease the development of algorithm we stripped down the entire dataset into a small dataset. The development dataset contains data from August 2019."
   ]
  },
  {
   "cell_type": "code",
   "execution_count": 3,
   "metadata": {},
   "outputs": [],
   "source": [
    "filename = \"data/311_Service_Requests_from_2018_to_Present.csv\""
   ]
  },
  {
   "cell_type": "markdown",
   "metadata": {},
   "source": [
    "### Create dataframe"
   ]
  },
  {
   "cell_type": "code",
   "execution_count": 4,
   "metadata": {},
   "outputs": [],
   "source": [
    "spark = init_spark()"
   ]
  },
  {
   "cell_type": "code",
   "execution_count": 5,
   "metadata": {},
   "outputs": [],
   "source": [
    "nyc_311_df = spark.read.format(\"csv\").option(\"header\", \"true\").load(filename)"
   ]
  },
  {
   "cell_type": "code",
   "execution_count": 6,
   "metadata": {},
   "outputs": [
    {
     "name": "stdout",
     "output_type": "stream",
     "text": [
      "root\n",
      " |-- Unique Key: string (nullable = true)\n",
      " |-- Created Date: string (nullable = true)\n",
      " |-- Closed Date: string (nullable = true)\n",
      " |-- Agency: string (nullable = true)\n",
      " |-- Agency Name: string (nullable = true)\n",
      " |-- Complaint Type: string (nullable = true)\n",
      " |-- Descriptor: string (nullable = true)\n",
      " |-- Location Type: string (nullable = true)\n",
      " |-- Incident Zip: string (nullable = true)\n",
      " |-- Incident Address: string (nullable = true)\n",
      " |-- Street Name: string (nullable = true)\n",
      " |-- Cross Street 1: string (nullable = true)\n",
      " |-- Cross Street 2: string (nullable = true)\n",
      " |-- Intersection Street 1: string (nullable = true)\n",
      " |-- Intersection Street 2: string (nullable = true)\n",
      " |-- Address Type: string (nullable = true)\n",
      " |-- City: string (nullable = true)\n",
      " |-- Landmark: string (nullable = true)\n",
      " |-- Facility Type: string (nullable = true)\n",
      " |-- Status: string (nullable = true)\n",
      " |-- Due Date: string (nullable = true)\n",
      " |-- Resolution Description: string (nullable = true)\n",
      " |-- Resolution Action Updated Date: string (nullable = true)\n",
      " |-- Community Board: string (nullable = true)\n",
      " |-- BBL: string (nullable = true)\n",
      " |-- Borough: string (nullable = true)\n",
      " |-- X Coordinate (State Plane): string (nullable = true)\n",
      " |-- Y Coordinate (State Plane): string (nullable = true)\n",
      " |-- Open Data Channel Type: string (nullable = true)\n",
      " |-- Park Facility Name: string (nullable = true)\n",
      " |-- Park Borough: string (nullable = true)\n",
      " |-- Vehicle Type: string (nullable = true)\n",
      " |-- Taxi Company Borough: string (nullable = true)\n",
      " |-- Taxi Pick Up Location: string (nullable = true)\n",
      " |-- Bridge Highway Name: string (nullable = true)\n",
      " |-- Bridge Highway Direction: string (nullable = true)\n",
      " |-- Road Ramp: string (nullable = true)\n",
      " |-- Bridge Highway Segment: string (nullable = true)\n",
      " |-- Latitude: string (nullable = true)\n",
      " |-- Longitude: string (nullable = true)\n",
      " |-- Location: string (nullable = true)\n",
      "\n"
     ]
    }
   ],
   "source": [
    "nyc_311_df.printSchema()"
   ]
  },
  {
   "cell_type": "markdown",
   "metadata": {},
   "source": [
    "### Utility Functions"
   ]
  },
  {
   "cell_type": "code",
   "execution_count": 7,
   "metadata": {},
   "outputs": [],
   "source": [
    "def get_df_row_as_dict(df_row):\n",
    "    return df_row.asDict()"
   ]
  },
  {
   "cell_type": "code",
   "execution_count": 8,
   "metadata": {},
   "outputs": [],
   "source": [
    "def print_df_row_as_dict(df_row):\n",
    "    for col in get_df_row_as_dict(df_row):\n",
    "        print(col + \":\" + str(df_row[col]))"
   ]
  },
  {
   "cell_type": "markdown",
   "metadata": {},
   "source": [
    "#### Drop following columns"
   ]
  },
  {
   "cell_type": "code",
   "execution_count": 9,
   "metadata": {},
   "outputs": [],
   "source": [
    "DROP_THRESHOLD = 0.5"
   ]
  },
  {
   "cell_type": "code",
   "execution_count": 10,
   "metadata": {},
   "outputs": [],
   "source": [
    "DROP_COLS = ['Agency Name', 'Incident Address', 'Street Name', 'Cross Street 1', 'Cross Street 2',\n",
    "             'Intersection Street 1', 'Intersection Street 2', 'Landmark', 'Facility Type', 'Location_Type',\n",
    "             'Resolution Description', 'Resolution Action Updated Date', 'Community Board', 'BBL',\n",
    "             'X Coordinate (State Plane)', 'Y Coordinate (State Plane)', 'Park Facility Name', 'Park Borough',\n",
    "             'Vehicle Type', 'Taxi Company Borough', 'Taxi Pick Up Location', 'Bridge Highway Name',\n",
    "             'Bridge Highway Direction', 'Road Ramp', 'Bridge Highway Segment', 'Latitude', 'Longitude', 'Location']"
   ]
  },
  {
   "cell_type": "code",
   "execution_count": 11,
   "metadata": {},
   "outputs": [],
   "source": [
    "def get_missing_value_count(df_311):\n",
    "    return df_311.select([f.count(f.when((f.isnull(c) | (f.col(c) == '')), c)).alias(c) for c in df_311.columns])"
   ]
  },
  {
   "cell_type": "code",
   "execution_count": 12,
   "metadata": {},
   "outputs": [],
   "source": [
    "def drop_unwanted_cols(df_311):\n",
    "    df_311 = df_311.drop(*DROP_COLS)\n",
    "    df_size = df_311.count()\n",
    "    missing_value_count_df = get_missing_value_count(df_311)\n",
    "    missing_counts_dict = get_df_row_as_dict(missing_value_count_df.collect()[0])\n",
    "    drop_list = [k for k, v in missing_counts_dict.items() if (v / df_size) >= DROP_THRESHOLD]\n",
    "    if len(drop_list) > 0:\n",
    "        return df_311.drop(*drop_list)\n",
    "    return df_311"
   ]
  },
  {
   "cell_type": "code",
   "execution_count": 13,
   "metadata": {},
   "outputs": [],
   "source": [
    "nyc_311_df = drop_unwanted_cols(nyc_311_df)"
   ]
  },
  {
   "cell_type": "code",
   "execution_count": 14,
   "metadata": {},
   "outputs": [
    {
     "name": "stdout",
     "output_type": "stream",
     "text": [
      "root\n",
      " |-- Unique Key: string (nullable = true)\n",
      " |-- Created Date: string (nullable = true)\n",
      " |-- Closed Date: string (nullable = true)\n",
      " |-- Agency: string (nullable = true)\n",
      " |-- Complaint Type: string (nullable = true)\n",
      " |-- Descriptor: string (nullable = true)\n",
      " |-- Location Type: string (nullable = true)\n",
      " |-- Incident Zip: string (nullable = true)\n",
      " |-- Address Type: string (nullable = true)\n",
      " |-- City: string (nullable = true)\n",
      " |-- Status: string (nullable = true)\n",
      " |-- Borough: string (nullable = true)\n",
      " |-- Open Data Channel Type: string (nullable = true)\n",
      "\n"
     ]
    }
   ],
   "source": [
    "nyc_311_df.printSchema()"
   ]
  },
  {
   "cell_type": "markdown",
   "metadata": {},
   "source": [
    "### Remove Space from Column Names"
   ]
  },
  {
   "cell_type": "code",
   "execution_count": 15,
   "metadata": {},
   "outputs": [],
   "source": [
    "def remove_space_from_col_names(df_311):\n",
    "    return (df_311.withColumnRenamed('Unique Key', 'Unique_Key').withColumnRenamed('Created Date', 'Created_Date')\n",
    "            .withColumnRenamed('Closed Date', 'Closed_Date')\n",
    "            .withColumnRenamed('Due Date', 'Due_Date').withColumnRenamed('Address Type', 'Address_Type')\n",
    "            .withColumnRenamed('Location Type', 'Location_Type').withColumnRenamed('Incident Zip', 'Incident_Zip')\n",
    "            .withColumnRenamed('Complaint Type', 'Complaint_Type')\n",
    "            .withColumnRenamed('Open Data Channel Type', 'Open_Data_Channel_Type'))"
   ]
  },
  {
   "cell_type": "code",
   "execution_count": 16,
   "metadata": {},
   "outputs": [],
   "source": [
    "nyc_311_df = remove_space_from_col_names(nyc_311_df)"
   ]
  },
  {
   "cell_type": "code",
   "execution_count": 17,
   "metadata": {},
   "outputs": [
    {
     "name": "stdout",
     "output_type": "stream",
     "text": [
      "root\n",
      " |-- Unique_Key: string (nullable = true)\n",
      " |-- Created_Date: string (nullable = true)\n",
      " |-- Closed_Date: string (nullable = true)\n",
      " |-- Agency: string (nullable = true)\n",
      " |-- Complaint_Type: string (nullable = true)\n",
      " |-- Descriptor: string (nullable = true)\n",
      " |-- Location_Type: string (nullable = true)\n",
      " |-- Incident_Zip: string (nullable = true)\n",
      " |-- Address_Type: string (nullable = true)\n",
      " |-- City: string (nullable = true)\n",
      " |-- Status: string (nullable = true)\n",
      " |-- Borough: string (nullable = true)\n",
      " |-- Open_Data_Channel_Type: string (nullable = true)\n",
      "\n"
     ]
    }
   ],
   "source": [
    "nyc_311_df.printSchema()"
   ]
  },
  {
   "cell_type": "markdown",
   "metadata": {},
   "source": [
    "### Capitalize Columns"
   ]
  },
  {
   "cell_type": "code",
   "execution_count": 18,
   "metadata": {},
   "outputs": [],
   "source": [
    "def capitalize_cols(df_311, cols):\n",
    "    for c in cols:\n",
    "        df_311 = df_311.withColumn(c, f.upper(f.col(c)))\n",
    "    return df_311"
   ]
  },
  {
   "cell_type": "code",
   "execution_count": 19,
   "metadata": {},
   "outputs": [],
   "source": [
    "CAPITALIZE_COLS = ['City', 'Borough']"
   ]
  },
  {
   "cell_type": "code",
   "execution_count": 20,
   "metadata": {},
   "outputs": [],
   "source": [
    "nyc_311_df = capitalize_cols(nyc_311_df,CAPITALIZE_COLS)"
   ]
  },
  {
   "cell_type": "code",
   "execution_count": 21,
   "metadata": {},
   "outputs": [
    {
     "name": "stdout",
     "output_type": "stream",
     "text": [
      "root\n",
      " |-- Unique_Key: string (nullable = true)\n",
      " |-- Created_Date: string (nullable = true)\n",
      " |-- Closed_Date: string (nullable = true)\n",
      " |-- Agency: string (nullable = true)\n",
      " |-- Complaint_Type: string (nullable = true)\n",
      " |-- Descriptor: string (nullable = true)\n",
      " |-- Location_Type: string (nullable = true)\n",
      " |-- Incident_Zip: string (nullable = true)\n",
      " |-- Address_Type: string (nullable = true)\n",
      " |-- City: string (nullable = true)\n",
      " |-- Status: string (nullable = true)\n",
      " |-- Borough: string (nullable = true)\n",
      " |-- Open_Data_Channel_Type: string (nullable = true)\n",
      "\n"
     ]
    }
   ],
   "source": [
    "nyc_311_df.printSchema()"
   ]
  },
  {
   "cell_type": "markdown",
   "metadata": {},
   "source": [
    "### Cast zipcode from String to Float"
   ]
  },
  {
   "cell_type": "code",
   "execution_count": 22,
   "metadata": {},
   "outputs": [],
   "source": [
    "def format_zip_code(df_311):\n",
    "    df_311 = df_311.withColumn('Incident_Zip', f.substring('Incident_Zip', 0, 5).cast('float'))\n",
    "    return df_311"
   ]
  },
  {
   "cell_type": "code",
   "execution_count": 23,
   "metadata": {},
   "outputs": [],
   "source": [
    "nyc_311_df = format_zip_code(nyc_311_df)"
   ]
  },
  {
   "cell_type": "code",
   "execution_count": 24,
   "metadata": {},
   "outputs": [
    {
     "name": "stdout",
     "output_type": "stream",
     "text": [
      "root\n",
      " |-- Unique_Key: string (nullable = true)\n",
      " |-- Created_Date: string (nullable = true)\n",
      " |-- Closed_Date: string (nullable = true)\n",
      " |-- Agency: string (nullable = true)\n",
      " |-- Complaint_Type: string (nullable = true)\n",
      " |-- Descriptor: string (nullable = true)\n",
      " |-- Location_Type: string (nullable = true)\n",
      " |-- Incident_Zip: float (nullable = true)\n",
      " |-- Address_Type: string (nullable = true)\n",
      " |-- City: string (nullable = true)\n",
      " |-- Status: string (nullable = true)\n",
      " |-- Borough: string (nullable = true)\n",
      " |-- Open_Data_Channel_Type: string (nullable = true)\n",
      "\n"
     ]
    }
   ],
   "source": [
    "nyc_311_df.printSchema()"
   ]
  },
  {
   "cell_type": "markdown",
   "metadata": {},
   "source": [
    "### Update the burough city from zip code"
   ]
  },
  {
   "cell_type": "code",
   "execution_count": 25,
   "metadata": {},
   "outputs": [],
   "source": [
    "def update_burough_city_from_zip_code(df_311):\n",
    "    areas = ['City', 'Borough']\n",
    "    for area in areas:\n",
    "        df_311 = df_311.withColumn(area, f.when(\n",
    "            (f.col(\"Incident_Zip\") > 10450.0) & (f.col(\"Incident_Zip\") < 10475.0) & (f.col(area).isNull()),\n",
    "            \"BRONX\").otherwise(f.col(area)))\n",
    "        df_311 = df_311.withColumn(area, f.when(\n",
    "            (f.col(\"Incident_Zip\") > 11200.0) & (f.col(\"Incident_Zip\") < 11240.0) & (f.col(area).isNull()),\n",
    "            \"BROOKLYN\").otherwise(f.col(area)))\n",
    "        df_311 = df_311.withColumn(area, f.when(\n",
    "            (f.col(\"Incident_Zip\") > 10000.0) & (f.col(\"Incident_Zip\") < 10280.0) & (f.col(area).isNull()),\n",
    "            \"MANHATTAN\").otherwise(f.col(area)))\n",
    "        df_311 = df_311.withColumn(area, f.when(\n",
    "            (f.col(\"Incident_Zip\") > 10300.0) & (f.col(\"Incident_Zip\") < 10315.0) & (f.col(area).isNull()),\n",
    "            \"STATEN ISLAND\").otherwise(f.col(area)))\n",
    "        df_311 = df_311.withColumn(area, f.when(\n",
    "            (f.col(\"Incident_Zip\") > 11350.0) & (f.col(\"Incident_Zip\") < 11700.0) & (f.col(area).isNull()),\n",
    "            \"QUEENS\").otherwise(f.col(area)))\n",
    "    return df_311"
   ]
  },
  {
   "cell_type": "code",
   "execution_count": 26,
   "metadata": {},
   "outputs": [],
   "source": [
    "nyc_311_df = update_burough_city_from_zip_code(nyc_311_df)"
   ]
  },
  {
   "cell_type": "markdown",
   "metadata": {},
   "source": [
    "### Remove records with no city values and the issues that are not closed"
   ]
  },
  {
   "cell_type": "code",
   "execution_count": 27,
   "metadata": {},
   "outputs": [],
   "source": [
    "def drop_empty_null_values(df_311):\n",
    "    df_311 = df_311.filter((f.col('City').isNotNull()) & (f.col('City') != \"\") & (f.col('Closed_Date').isNotNull()) & (\n",
    "            f.col('Closed_Date') != \"\"))\n",
    "    return df_311"
   ]
  },
  {
   "cell_type": "code",
   "execution_count": 28,
   "metadata": {},
   "outputs": [],
   "source": [
    "nyc_311_df = drop_empty_null_values(nyc_311_df)"
   ]
  },
  {
   "cell_type": "code",
   "execution_count": 29,
   "metadata": {},
   "outputs": [],
   "source": [
    "def calculate_time_to_resolve_in_seconds(df_311):\n",
    "    time_fmt = \"dd/MM/yyyy HH:mm:ss\"\n",
    "    time_fmt2 = \"MM/dd/yyyy HH:mm:ss\"\n",
    "    time_diff = f.when(f.to_timestamp(df_311.Closed_Date, time_fmt).isNull(), f.unix_timestamp('Closed_Date',\n",
    "                                                                                               format=time_fmt2) - f.unix_timestamp(\n",
    "        'Created_Date', format=time_fmt)).otherwise(\n",
    "        f.unix_timestamp('Closed_Date', format=time_fmt) - f.unix_timestamp('Created_Date', format=time_fmt))\n",
    "    return df_311.withColumn(\"Time_to_Resolve\", time_diff)"
   ]
  },
  {
   "cell_type": "code",
   "execution_count": 30,
   "metadata": {},
   "outputs": [],
   "source": [
    "nyc_311_df = calculate_time_to_resolve_in_seconds(nyc_311_df)"
   ]
  },
  {
   "cell_type": "code",
   "execution_count": 31,
   "metadata": {},
   "outputs": [
    {
     "name": "stdout",
     "output_type": "stream",
     "text": [
      "root\n",
      " |-- Unique_Key: string (nullable = true)\n",
      " |-- Created_Date: string (nullable = true)\n",
      " |-- Closed_Date: string (nullable = true)\n",
      " |-- Agency: string (nullable = true)\n",
      " |-- Complaint_Type: string (nullable = true)\n",
      " |-- Descriptor: string (nullable = true)\n",
      " |-- Location_Type: string (nullable = true)\n",
      " |-- Incident_Zip: float (nullable = true)\n",
      " |-- Address_Type: string (nullable = true)\n",
      " |-- City: string (nullable = true)\n",
      " |-- Status: string (nullable = true)\n",
      " |-- Borough: string (nullable = true)\n",
      " |-- Open_Data_Channel_Type: string (nullable = true)\n",
      " |-- Time_to_Resolve: long (nullable = true)\n",
      "\n"
     ]
    }
   ],
   "source": [
    "nyc_311_df.printSchema()"
   ]
  },
  {
   "cell_type": "code",
   "execution_count": 32,
   "metadata": {},
   "outputs": [
    {
     "name": "stdout",
     "output_type": "stream",
     "text": [
      "+----------+--------------------+--------------------+------+-------------------+----------------+--------------------+------------+------------+-------------+------+-------------+----------------------+---------------+\n",
      "|Unique_Key|        Created_Date|         Closed_Date|Agency|     Complaint_Type|      Descriptor|       Location_Type|Incident_Zip|Address_Type|         City|Status|      Borough|Open_Data_Channel_Type|Time_to_Resolve|\n",
      "+----------+--------------------+--------------------+------+-------------------+----------------+--------------------+------------+------------+-------------+------+-------------+----------------------+---------------+\n",
      "|  38070822|01/01/2018 12:00:...|01/06/2018 09:31:...|   HPD|     HEAT/HOT WATER|  APARTMENT ONLY|RESIDENTIAL BUILDING|     10468.0|     ADDRESS|        BRONX|Closed|        BRONX|                MOBILE|       13033886|\n",
      "|  38071530|01/01/2018 12:01:...|01/01/2018 02:13:...|  NYPD|   Blocked Driveway|       No Access|     Street/Sidewalk|     11225.0|     ADDRESS|     BROOKLYN|Closed|     BROOKLYN|                 PHONE|         -35255|\n",
      "|  38065299|01/01/2018 12:01:...|01/14/2018 09:44:...|   HPD|           PLUMBING|STEAM PIPE/RISER|RESIDENTIAL BUILDING|     10003.0|     ADDRESS|     NEW YORK|Closed|    MANHATTAN|                 PHONE|        1114987|\n",
      "|  38066653|01/01/2018 12:02:...|01/07/2018 07:54:...|   HPD|     HEAT/HOT WATER| ENTIRE BUILDING|RESIDENTIAL BUILDING|     10452.0|     ADDRESS|        BRONX|Closed|        BRONX|                ONLINE|       15619922|\n",
      "|  38070264|01/01/2018 12:02:...|01/03/2018 08:34:...|   HPD|     HEAT/HOT WATER| ENTIRE BUILDING|RESIDENTIAL BUILDING|     10032.0|     ADDRESS|     NEW YORK|Closed|    MANHATTAN|                 PHONE|        5085119|\n",
      "|  38068836|01/01/2018 12:04:...|01/01/2018 01:05:...|  NYPD|Noise - Residential|Loud Music/Party|Residential Build...|     11206.0|     ADDRESS|     BROOKLYN|Closed|     BROOKLYN|                MOBILE|         -39520|\n",
      "|  38068097|01/01/2018 12:04:...|01/01/2018 08:33:...|  NYPD|   Blocked Driveway|       No Access|     Street/Sidewalk|     11385.0|     ADDRESS|    RIDGEWOOD|Closed|       QUEENS|                 PHONE|         -12670|\n",
      "|  38068795|01/01/2018 12:04:...|01/01/2018 01:45:...|  NYPD|Noise - Residential|Loud Music/Party|Residential Build...|     11378.0|     ADDRESS|      MASPETH|Closed|       QUEENS|                 PHONE|         -37129|\n",
      "|  38065522|01/01/2018 12:04:...|01/01/2018 12:44:...|  NYPD|Noise - Residential|Loud Music/Party|Residential Build...|     11432.0|     ADDRESS|      JAMAICA|Closed|       QUEENS|                 PHONE|           2354|\n",
      "|  38067938|01/01/2018 12:05:...|01/01/2018 12:59:...|  NYPD| Noise - Commercial|Banging/Pounding|    Store/Commercial|     11222.0|     ADDRESS|     BROOKLYN|Closed|     BROOKLYN|                MOBILE|           3255|\n",
      "|  38071606|01/01/2018 12:05:...|01/01/2018 01:19:...|  NYPD|Noise - Residential|Loud Music/Party|Residential Build...|     11355.0|     ADDRESS|     FLUSHING|Closed|       QUEENS|                ONLINE|         -38730|\n",
      "|  38068737|01/01/2018 12:05:...|01/01/2018 01:03:...|  NYPD|Noise - Residential|Loud Music/Party|Residential Build...|     11249.0|     ADDRESS|     BROOKLYN|Closed|     BROOKLYN|                 PHONE|         -39716|\n",
      "|  38067314|01/01/2018 12:05:...|01/01/2018 02:01:...|  NYPD|Noise - Residential|Loud Music/Party|Residential Build...|     11213.0|     ADDRESS|     BROOKLYN|Closed|     BROOKLYN|                MOBILE|         -36246|\n",
      "|  38072466|01/01/2018 12:05:...|01/06/2018 08:39:...|   HPD|     HEAT/HOT WATER| ENTIRE BUILDING|RESIDENTIAL BUILDING|     11213.0|     ADDRESS|     BROOKLYN|Closed|     BROOKLYN|                 PHONE|       13030411|\n",
      "|  38076151|01/01/2018 12:06:...|01/08/2018 07:21:...|   HPD|     HEAT/HOT WATER| ENTIRE BUILDING|RESIDENTIAL BUILDING|     10463.0|     ADDRESS|        BRONX|Closed|        BRONX|                ONLINE|       18296098|\n",
      "|  38074972|01/01/2018 12:06:...|01/01/2018 07:43:...|   HPD|     HEAT/HOT WATER| ENTIRE BUILDING|RESIDENTIAL BUILDING|     10468.0|     ADDRESS|        BRONX|Closed|        BRONX|                 PHONE|         -15809|\n",
      "|  38069541|01/01/2018 12:07:...|01/01/2018 01:11:...|  NYPD|Noise - Residential|Loud Music/Party|Residential Build...|     10314.0|     ADDRESS|STATEN ISLAND|Closed|STATEN ISLAND|                 PHONE|         -39334|\n",
      "|  38070566|01/01/2018 12:07:...|01/01/2018 01:51:...|  NYPD|   Blocked Driveway|       No Access|     Street/Sidewalk|     11691.0|     ADDRESS| FAR ROCKAWAY|Closed|       QUEENS|                 PHONE|         -36957|\n",
      "|  38076014|01/01/2018 12:07:...|01/07/2018 10:10:...|   HPD|     HEAT/HOT WATER| ENTIRE BUILDING|RESIDENTIAL BUILDING|     11249.0|     ADDRESS|     BROOKLYN|Closed|     BROOKLYN|                 PHONE|       15627748|\n",
      "|  38066178|01/01/2018 12:08:...|01/01/2018 03:43:...|  NYPD|       Animal Abuse|          In Car|     Street/Sidewalk|     11215.0|INTERSECTION|     BROOKLYN|Closed|     BROOKLYN|                 PHONE|         -30266|\n",
      "+----------+--------------------+--------------------+------+-------------------+----------------+--------------------+------------+------------+-------------+------+-------------+----------------------+---------------+\n",
      "only showing top 20 rows\n",
      "\n"
     ]
    }
   ],
   "source": [
    "nyc_311_df.show()"
   ]
  },
  {
   "cell_type": "code",
   "execution_count": null,
   "metadata": {},
   "outputs": [],
   "source": []
  }
 ],
 "metadata": {
  "kernelspec": {
   "display_name": "Python 3",
   "language": "python",
   "name": "python3"
  },
  "language_info": {
   "codemirror_mode": {
    "name": "ipython",
    "version": 3
   },
   "file_extension": ".py",
   "mimetype": "text/x-python",
   "name": "python",
   "nbconvert_exporter": "python",
   "pygments_lexer": "ipython3",
   "version": "3.5.6"
  }
 },
 "nbformat": 4,
 "nbformat_minor": 4
}
